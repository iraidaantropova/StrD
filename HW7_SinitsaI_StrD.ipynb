{
  "nbformat": 4,
  "nbformat_minor": 0,
  "metadata": {
    "colab": {
      "provenance": [],
      "authorship_tag": "ABX9TyN4q1CLhwvy7PrkNYCV0tSm",
      "include_colab_link": true
    },
    "kernelspec": {
      "name": "python3",
      "display_name": "Python 3"
    },
    "language_info": {
      "name": "python"
    }
  },
  "cells": [
    {
      "cell_type": "markdown",
      "metadata": {
        "id": "view-in-github",
        "colab_type": "text"
      },
      "source": [
        "<a href=\"https://colab.research.google.com/github/iraidaantropova/StrD/blob/main/HW7_SinitsaI_StrD.ipynb\" target=\"_parent\"><img src=\"https://colab.research.google.com/assets/colab-badge.svg\" alt=\"Open In Colab\"/></a>"
      ]
    },
    {
      "cell_type": "code",
      "execution_count": null,
      "metadata": {
        "id": "bPYWu3M0xqVS"
      },
      "outputs": [],
      "source": [
        "# Импорт библиотек\n",
        "%matplotlib inline\n",
        "%config InlineBackend.figure_format = 'svg'\n",
        "\n",
        "import warnings\n",
        "warnings.filterwarnings('ignore')\n",
        "import numpy as np\n",
        "import pandas as pd\n",
        "import matplotlib.pyplot as plt\n",
        "import seaborn as sns\n",
        "import itertools\n",
        "\n",
        "from sklearn.model_selection import train_test_split\n",
        "from sklearn.metrics import accuracy_score\n",
        "from sklearn.linear_model import LogisticRegression\n",
        "from sklearn.preprocessing import OneHotEncoder, MinMaxScaler"
      ]
    },
    {
      "cell_type": "code",
      "source": [
        "#считываю данные\n",
        "# Ниже,  для тех, у кого хоть раз были просрчоки больше 60 дней, ставлю в таргет 1.\n",
        "data = pd.read_csv(\"application_record.csv\", encoding = 'utf-8')\n",
        "record = pd.read_csv(\"credit_record.csv\", encoding = 'utf-8')\n",
        "\n",
        "#  Добавляю срок кредита к параметрам выдачи кредита\n",
        "begin_month = pd.DataFrame(record.groupby([\"ID\"])[\"MONTHS_BALANCE\"].agg(min) * - 1)\n",
        "begin_month = begin_month.rename(columns={'MONTHS_BALANCE':'begin_month'})\n",
        "new_data = pd.merge(data, begin_month, how=\"left\", on=\"ID\")\n",
        "\n",
        "#  Больше 60, то это просрочка, ставлю - Yes, если просрочка есть за срок кредита,то так же ставлю Yes\n",
        "record['dep_value'] = None\n",
        "record['dep_value'][record['STATUS'] == '2'] = 'Yes'\n",
        "record['dep_value'][record['STATUS'] == '3'] = 'Yes'\n",
        "record['dep_value'][record['STATUS'] == '4'] = 'Yes'\n",
        "record['dep_value'][record['STATUS'] == '5'] = 'Yes'\n",
        "cpunt = record.groupby('ID').count()\n",
        "cpunt['dep_value'][cpunt['dep_value'] > 0] = 'Yes'\n",
        "cpunt['dep_value'][cpunt['dep_value'] == 0] = 'No'\n",
        "\n",
        "#  Джойним всё вместе,заменяю Yes и No на 1 и 0\n",
        "cpunt = cpunt[['dep_value']]\n",
        "new_data = pd.merge(new_data, cpunt, how='inner', on='ID')\n",
        "new_data['target'] = new_data['dep_value']\n",
        "new_data.loc[new_data['target'] == 'Yes', 'target'] = 1\n",
        "new_data.loc[new_data['target'] == 'No', 'target'] = 0"
      ],
      "metadata": {
        "id": "elkKDU8IKbHu"
      },
      "execution_count": null,
      "outputs": []
    },
    {
      "cell_type": "code",
      "source": [
        "#  В итоге к анкетным данным добавляю таргет\n",
        "new_data.head()"
      ],
      "metadata": {
        "colab": {
          "base_uri": "https://localhost:8080/",
          "height": 352
        },
        "id": "lDQNI8JSKjI4",
        "outputId": "2b06dc37-88ef-494f-e583-7a9fcbf56968"
      },
      "execution_count": null,
      "outputs": [
        {
          "output_type": "execute_result",
          "data": {
            "text/plain": [
              "        ID CODE_GENDER FLAG_OWN_CAR FLAG_OWN_REALTY  CNT_CHILDREN  \\\n",
              "0  5008804           M            Y               Y             0   \n",
              "1  5008805           M            Y               Y             0   \n",
              "2  5008806           M            Y               Y             0   \n",
              "3  5008808           F            N               Y             0   \n",
              "4  5008809           F            N               Y             0   \n",
              "\n",
              "   AMT_INCOME_TOTAL      NAME_INCOME_TYPE            NAME_EDUCATION_TYPE  \\\n",
              "0          427500.0               Working               Higher education   \n",
              "1          427500.0               Working               Higher education   \n",
              "2          112500.0               Working  Secondary / secondary special   \n",
              "3          270000.0  Commercial associate  Secondary / secondary special   \n",
              "4          270000.0  Commercial associate  Secondary / secondary special   \n",
              "\n",
              "     NAME_FAMILY_STATUS  NAME_HOUSING_TYPE  ...  DAYS_EMPLOYED  FLAG_MOBIL  \\\n",
              "0        Civil marriage   Rented apartment  ...          -4542           1   \n",
              "1        Civil marriage   Rented apartment  ...          -4542           1   \n",
              "2               Married  House / apartment  ...          -1134           1   \n",
              "3  Single / not married  House / apartment  ...          -3051           1   \n",
              "4  Single / not married  House / apartment  ...          -3051           1   \n",
              "\n",
              "   FLAG_WORK_PHONE  FLAG_PHONE  FLAG_EMAIL  OCCUPATION_TYPE CNT_FAM_MEMBERS  \\\n",
              "0                1           0           0              NaN             2.0   \n",
              "1                1           0           0              NaN             2.0   \n",
              "2                0           0           0   Security staff             2.0   \n",
              "3                0           1           1      Sales staff             1.0   \n",
              "4                0           1           1      Sales staff             1.0   \n",
              "\n",
              "   begin_month  dep_value target  \n",
              "0         15.0         No      0  \n",
              "1         14.0         No      0  \n",
              "2         29.0         No      0  \n",
              "3          4.0         No      0  \n",
              "4         26.0         No      0  \n",
              "\n",
              "[5 rows x 21 columns]"
            ],
            "text/html": [
              "\n",
              "\n",
              "  <div id=\"df-8a42b789-958c-47ea-8e4c-33f250d5683f\">\n",
              "    <div class=\"colab-df-container\">\n",
              "      <div>\n",
              "<style scoped>\n",
              "    .dataframe tbody tr th:only-of-type {\n",
              "        vertical-align: middle;\n",
              "    }\n",
              "\n",
              "    .dataframe tbody tr th {\n",
              "        vertical-align: top;\n",
              "    }\n",
              "\n",
              "    .dataframe thead th {\n",
              "        text-align: right;\n",
              "    }\n",
              "</style>\n",
              "<table border=\"1\" class=\"dataframe\">\n",
              "  <thead>\n",
              "    <tr style=\"text-align: right;\">\n",
              "      <th></th>\n",
              "      <th>ID</th>\n",
              "      <th>CODE_GENDER</th>\n",
              "      <th>FLAG_OWN_CAR</th>\n",
              "      <th>FLAG_OWN_REALTY</th>\n",
              "      <th>CNT_CHILDREN</th>\n",
              "      <th>AMT_INCOME_TOTAL</th>\n",
              "      <th>NAME_INCOME_TYPE</th>\n",
              "      <th>NAME_EDUCATION_TYPE</th>\n",
              "      <th>NAME_FAMILY_STATUS</th>\n",
              "      <th>NAME_HOUSING_TYPE</th>\n",
              "      <th>...</th>\n",
              "      <th>DAYS_EMPLOYED</th>\n",
              "      <th>FLAG_MOBIL</th>\n",
              "      <th>FLAG_WORK_PHONE</th>\n",
              "      <th>FLAG_PHONE</th>\n",
              "      <th>FLAG_EMAIL</th>\n",
              "      <th>OCCUPATION_TYPE</th>\n",
              "      <th>CNT_FAM_MEMBERS</th>\n",
              "      <th>begin_month</th>\n",
              "      <th>dep_value</th>\n",
              "      <th>target</th>\n",
              "    </tr>\n",
              "  </thead>\n",
              "  <tbody>\n",
              "    <tr>\n",
              "      <th>0</th>\n",
              "      <td>5008804</td>\n",
              "      <td>M</td>\n",
              "      <td>Y</td>\n",
              "      <td>Y</td>\n",
              "      <td>0</td>\n",
              "      <td>427500.0</td>\n",
              "      <td>Working</td>\n",
              "      <td>Higher education</td>\n",
              "      <td>Civil marriage</td>\n",
              "      <td>Rented apartment</td>\n",
              "      <td>...</td>\n",
              "      <td>-4542</td>\n",
              "      <td>1</td>\n",
              "      <td>1</td>\n",
              "      <td>0</td>\n",
              "      <td>0</td>\n",
              "      <td>NaN</td>\n",
              "      <td>2.0</td>\n",
              "      <td>15.0</td>\n",
              "      <td>No</td>\n",
              "      <td>0</td>\n",
              "    </tr>\n",
              "    <tr>\n",
              "      <th>1</th>\n",
              "      <td>5008805</td>\n",
              "      <td>M</td>\n",
              "      <td>Y</td>\n",
              "      <td>Y</td>\n",
              "      <td>0</td>\n",
              "      <td>427500.0</td>\n",
              "      <td>Working</td>\n",
              "      <td>Higher education</td>\n",
              "      <td>Civil marriage</td>\n",
              "      <td>Rented apartment</td>\n",
              "      <td>...</td>\n",
              "      <td>-4542</td>\n",
              "      <td>1</td>\n",
              "      <td>1</td>\n",
              "      <td>0</td>\n",
              "      <td>0</td>\n",
              "      <td>NaN</td>\n",
              "      <td>2.0</td>\n",
              "      <td>14.0</td>\n",
              "      <td>No</td>\n",
              "      <td>0</td>\n",
              "    </tr>\n",
              "    <tr>\n",
              "      <th>2</th>\n",
              "      <td>5008806</td>\n",
              "      <td>M</td>\n",
              "      <td>Y</td>\n",
              "      <td>Y</td>\n",
              "      <td>0</td>\n",
              "      <td>112500.0</td>\n",
              "      <td>Working</td>\n",
              "      <td>Secondary / secondary special</td>\n",
              "      <td>Married</td>\n",
              "      <td>House / apartment</td>\n",
              "      <td>...</td>\n",
              "      <td>-1134</td>\n",
              "      <td>1</td>\n",
              "      <td>0</td>\n",
              "      <td>0</td>\n",
              "      <td>0</td>\n",
              "      <td>Security staff</td>\n",
              "      <td>2.0</td>\n",
              "      <td>29.0</td>\n",
              "      <td>No</td>\n",
              "      <td>0</td>\n",
              "    </tr>\n",
              "    <tr>\n",
              "      <th>3</th>\n",
              "      <td>5008808</td>\n",
              "      <td>F</td>\n",
              "      <td>N</td>\n",
              "      <td>Y</td>\n",
              "      <td>0</td>\n",
              "      <td>270000.0</td>\n",
              "      <td>Commercial associate</td>\n",
              "      <td>Secondary / secondary special</td>\n",
              "      <td>Single / not married</td>\n",
              "      <td>House / apartment</td>\n",
              "      <td>...</td>\n",
              "      <td>-3051</td>\n",
              "      <td>1</td>\n",
              "      <td>0</td>\n",
              "      <td>1</td>\n",
              "      <td>1</td>\n",
              "      <td>Sales staff</td>\n",
              "      <td>1.0</td>\n",
              "      <td>4.0</td>\n",
              "      <td>No</td>\n",
              "      <td>0</td>\n",
              "    </tr>\n",
              "    <tr>\n",
              "      <th>4</th>\n",
              "      <td>5008809</td>\n",
              "      <td>F</td>\n",
              "      <td>N</td>\n",
              "      <td>Y</td>\n",
              "      <td>0</td>\n",
              "      <td>270000.0</td>\n",
              "      <td>Commercial associate</td>\n",
              "      <td>Secondary / secondary special</td>\n",
              "      <td>Single / not married</td>\n",
              "      <td>House / apartment</td>\n",
              "      <td>...</td>\n",
              "      <td>-3051</td>\n",
              "      <td>1</td>\n",
              "      <td>0</td>\n",
              "      <td>1</td>\n",
              "      <td>1</td>\n",
              "      <td>Sales staff</td>\n",
              "      <td>1.0</td>\n",
              "      <td>26.0</td>\n",
              "      <td>No</td>\n",
              "      <td>0</td>\n",
              "    </tr>\n",
              "  </tbody>\n",
              "</table>\n",
              "<p>5 rows × 21 columns</p>\n",
              "</div>\n",
              "      <button class=\"colab-df-convert\" onclick=\"convertToInteractive('df-8a42b789-958c-47ea-8e4c-33f250d5683f')\"\n",
              "              title=\"Convert this dataframe to an interactive table.\"\n",
              "              style=\"display:none;\">\n",
              "\n",
              "  <svg xmlns=\"http://www.w3.org/2000/svg\" height=\"24px\"viewBox=\"0 0 24 24\"\n",
              "       width=\"24px\">\n",
              "    <path d=\"M0 0h24v24H0V0z\" fill=\"none\"/>\n",
              "    <path d=\"M18.56 5.44l.94 2.06.94-2.06 2.06-.94-2.06-.94-.94-2.06-.94 2.06-2.06.94zm-11 1L8.5 8.5l.94-2.06 2.06-.94-2.06-.94L8.5 2.5l-.94 2.06-2.06.94zm10 10l.94 2.06.94-2.06 2.06-.94-2.06-.94-.94-2.06-.94 2.06-2.06.94z\"/><path d=\"M17.41 7.96l-1.37-1.37c-.4-.4-.92-.59-1.43-.59-.52 0-1.04.2-1.43.59L10.3 9.45l-7.72 7.72c-.78.78-.78 2.05 0 2.83L4 21.41c.39.39.9.59 1.41.59.51 0 1.02-.2 1.41-.59l7.78-7.78 2.81-2.81c.8-.78.8-2.07 0-2.86zM5.41 20L4 18.59l7.72-7.72 1.47 1.35L5.41 20z\"/>\n",
              "  </svg>\n",
              "      </button>\n",
              "\n",
              "\n",
              "\n",
              "    <div id=\"df-d272c9b5-5601-4e95-a270-ccc8872ffabf\">\n",
              "      <button class=\"colab-df-quickchart\" onclick=\"quickchart('df-d272c9b5-5601-4e95-a270-ccc8872ffabf')\"\n",
              "              title=\"Suggest charts.\"\n",
              "              style=\"display:none;\">\n",
              "\n",
              "<svg xmlns=\"http://www.w3.org/2000/svg\" height=\"24px\"viewBox=\"0 0 24 24\"\n",
              "     width=\"24px\">\n",
              "    <g>\n",
              "        <path d=\"M19 3H5c-1.1 0-2 .9-2 2v14c0 1.1.9 2 2 2h14c1.1 0 2-.9 2-2V5c0-1.1-.9-2-2-2zM9 17H7v-7h2v7zm4 0h-2V7h2v10zm4 0h-2v-4h2v4z\"/>\n",
              "    </g>\n",
              "</svg>\n",
              "      </button>\n",
              "    </div>\n",
              "\n",
              "<style>\n",
              "  .colab-df-quickchart {\n",
              "    background-color: #E8F0FE;\n",
              "    border: none;\n",
              "    border-radius: 50%;\n",
              "    cursor: pointer;\n",
              "    display: none;\n",
              "    fill: #1967D2;\n",
              "    height: 32px;\n",
              "    padding: 0 0 0 0;\n",
              "    width: 32px;\n",
              "  }\n",
              "\n",
              "  .colab-df-quickchart:hover {\n",
              "    background-color: #E2EBFA;\n",
              "    box-shadow: 0px 1px 2px rgba(60, 64, 67, 0.3), 0px 1px 3px 1px rgba(60, 64, 67, 0.15);\n",
              "    fill: #174EA6;\n",
              "  }\n",
              "\n",
              "  [theme=dark] .colab-df-quickchart {\n",
              "    background-color: #3B4455;\n",
              "    fill: #D2E3FC;\n",
              "  }\n",
              "\n",
              "  [theme=dark] .colab-df-quickchart:hover {\n",
              "    background-color: #434B5C;\n",
              "    box-shadow: 0px 1px 3px 1px rgba(0, 0, 0, 0.15);\n",
              "    filter: drop-shadow(0px 1px 2px rgba(0, 0, 0, 0.3));\n",
              "    fill: #FFFFFF;\n",
              "  }\n",
              "</style>\n",
              "\n",
              "    <script>\n",
              "      async function quickchart(key) {\n",
              "        const containerElement = document.querySelector('#' + key);\n",
              "        const charts = await google.colab.kernel.invokeFunction(\n",
              "            'suggestCharts', [key], {});\n",
              "      }\n",
              "    </script>\n",
              "\n",
              "      <script>\n",
              "\n",
              "function displayQuickchartButton(domScope) {\n",
              "  let quickchartButtonEl =\n",
              "    domScope.querySelector('#df-d272c9b5-5601-4e95-a270-ccc8872ffabf button.colab-df-quickchart');\n",
              "  quickchartButtonEl.style.display =\n",
              "    google.colab.kernel.accessAllowed ? 'block' : 'none';\n",
              "}\n",
              "\n",
              "        displayQuickchartButton(document);\n",
              "      </script>\n",
              "      <style>\n",
              "    .colab-df-container {\n",
              "      display:flex;\n",
              "      flex-wrap:wrap;\n",
              "      gap: 12px;\n",
              "    }\n",
              "\n",
              "    .colab-df-convert {\n",
              "      background-color: #E8F0FE;\n",
              "      border: none;\n",
              "      border-radius: 50%;\n",
              "      cursor: pointer;\n",
              "      display: none;\n",
              "      fill: #1967D2;\n",
              "      height: 32px;\n",
              "      padding: 0 0 0 0;\n",
              "      width: 32px;\n",
              "    }\n",
              "\n",
              "    .colab-df-convert:hover {\n",
              "      background-color: #E2EBFA;\n",
              "      box-shadow: 0px 1px 2px rgba(60, 64, 67, 0.3), 0px 1px 3px 1px rgba(60, 64, 67, 0.15);\n",
              "      fill: #174EA6;\n",
              "    }\n",
              "\n",
              "    [theme=dark] .colab-df-convert {\n",
              "      background-color: #3B4455;\n",
              "      fill: #D2E3FC;\n",
              "    }\n",
              "\n",
              "    [theme=dark] .colab-df-convert:hover {\n",
              "      background-color: #434B5C;\n",
              "      box-shadow: 0px 1px 3px 1px rgba(0, 0, 0, 0.15);\n",
              "      filter: drop-shadow(0px 1px 2px rgba(0, 0, 0, 0.3));\n",
              "      fill: #FFFFFF;\n",
              "    }\n",
              "  </style>\n",
              "\n",
              "      <script>\n",
              "        const buttonEl =\n",
              "          document.querySelector('#df-8a42b789-958c-47ea-8e4c-33f250d5683f button.colab-df-convert');\n",
              "        buttonEl.style.display =\n",
              "          google.colab.kernel.accessAllowed ? 'block' : 'none';\n",
              "\n",
              "        async function convertToInteractive(key) {\n",
              "          const element = document.querySelector('#df-8a42b789-958c-47ea-8e4c-33f250d5683f');\n",
              "          const dataTable =\n",
              "            await google.colab.kernel.invokeFunction('convertToInteractive',\n",
              "                                                     [key], {});\n",
              "          if (!dataTable) return;\n",
              "\n",
              "          const docLinkHtml = 'Like what you see? Visit the ' +\n",
              "            '<a target=\"_blank\" href=https://colab.research.google.com/notebooks/data_table.ipynb>data table notebook</a>'\n",
              "            + ' to learn more about interactive tables.';\n",
              "          element.innerHTML = '';\n",
              "          dataTable['output_type'] = 'display_data';\n",
              "          await google.colab.output.renderOutput(dataTable, element);\n",
              "          const docLink = document.createElement('div');\n",
              "          docLink.innerHTML = docLinkHtml;\n",
              "          element.appendChild(docLink);\n",
              "        }\n",
              "      </script>\n",
              "    </div>\n",
              "  </div>\n"
            ]
          },
          "metadata": {},
          "execution_count": 3
        }
      ]
    },
    {
      "cell_type": "code",
      "source": [
        "# оставляю только часть признаков\n",
        "features = ['AMT_INCOME_TOTAL', 'CODE_GENDER', 'FLAG_OWN_CAR', 'FLAG_OWN_REALTY', 'CNT_CHILDREN']\n",
        "target = ['target',]\n",
        "dataset = new_data[features + target]\n",
        "dataset[target[0]] = pd.to_numeric(dataset[target[0]])"
      ],
      "metadata": {
        "id": "DlgVTb8VK7OT"
      },
      "execution_count": null,
      "outputs": []
    },
    {
      "cell_type": "code",
      "source": [
        "# Разделяю выборку на трейн и тест, на трейн буду обучать модель, на тест валидировать.\n",
        "X_train, X_test, y_train, y_test = train_test_split(dataset[features], pd.to_numeric(dataset[target[0]]), test_size=0.3, random_state=42)"
      ],
      "metadata": {
        "id": "OzrwaiVgLC9m"
      },
      "execution_count": null,
      "outputs": []
    },
    {
      "cell_type": "code",
      "source": [
        "# Превращаю категориальные факторы в численные\n",
        "ohe = OneHotEncoder()\n",
        "ohe.fit(X_train[['CODE_GENDER', 'FLAG_OWN_CAR', 'FLAG_OWN_REALTY']])\n",
        "X_train_ohe = ohe.transform(X_train[['CODE_GENDER', 'FLAG_OWN_CAR', 'FLAG_OWN_REALTY']])\n",
        "X_test_ohe = ohe.transform(X_test[['CODE_GENDER', 'FLAG_OWN_CAR', 'FLAG_OWN_REALTY']])\n",
        "\n",
        "X_train_ohe = pd.DataFrame(X_train_ohe.toarray(), columns=[item for sublist in ohe.categories_ for item in sublist])\n",
        "X_test_ohe = pd.DataFrame(X_test_ohe.toarray(), columns=[item for sublist in ohe.categories_ for item in sublist])"
      ],
      "metadata": {
        "id": "VFmoU3aTLJpU"
      },
      "execution_count": null,
      "outputs": []
    },
    {
      "cell_type": "code",
      "source": [
        "# Отскалирую численные\n",
        "mms = MinMaxScaler()\n",
        "mms.fit(X_train[['AMT_INCOME_TOTAL', 'CNT_CHILDREN']])\n",
        "X_train_scaled = mms.transform(X_train[['AMT_INCOME_TOTAL', 'CNT_CHILDREN']])\n",
        "X_test_scaled = mms.transform(X_test[['AMT_INCOME_TOTAL', 'CNT_CHILDREN']])\n",
        "\n",
        "X_train_scaled = pd.DataFrame(X_train_scaled, columns=['AMT_INCOME_TOTAL', 'CNT_CHILDREN'])\n",
        "X_test_scaled = pd.DataFrame(X_test_scaled, columns=['AMT_INCOME_TOTAL', 'CNT_CHILDREN'])"
      ],
      "metadata": {
        "id": "z1QKKlZ0LQdx"
      },
      "execution_count": null,
      "outputs": []
    },
    {
      "cell_type": "code",
      "source": [
        "X_train = pd.concat([X_train_scaled, X_train_ohe,], axis=1)\n",
        "X_test = pd.concat([X_test_scaled, X_test_ohe, ], axis=1)"
      ],
      "metadata": {
        "id": "rmklRookLURx"
      },
      "execution_count": null,
      "outputs": []
    },
    {
      "cell_type": "code",
      "source": [
        "# Создаю простейшую модель, которая покажет через линейные коэффиценты связь переменных и таргета\n",
        "model = LogisticRegression()\n",
        "model.fit(X_train, y_train)"
      ],
      "metadata": {
        "colab": {
          "base_uri": "https://localhost:8080/",
          "height": 75
        },
        "id": "I0Ahc5gHLXoJ",
        "outputId": "60e6046d-9d7d-4275-f210-c0ef354b799c"
      },
      "execution_count": null,
      "outputs": [
        {
          "output_type": "execute_result",
          "data": {
            "text/plain": [
              "LogisticRegression()"
            ],
            "text/html": [
              "<style>#sk-container-id-1 {color: black;background-color: white;}#sk-container-id-1 pre{padding: 0;}#sk-container-id-1 div.sk-toggleable {background-color: white;}#sk-container-id-1 label.sk-toggleable__label {cursor: pointer;display: block;width: 100%;margin-bottom: 0;padding: 0.3em;box-sizing: border-box;text-align: center;}#sk-container-id-1 label.sk-toggleable__label-arrow:before {content: \"▸\";float: left;margin-right: 0.25em;color: #696969;}#sk-container-id-1 label.sk-toggleable__label-arrow:hover:before {color: black;}#sk-container-id-1 div.sk-estimator:hover label.sk-toggleable__label-arrow:before {color: black;}#sk-container-id-1 div.sk-toggleable__content {max-height: 0;max-width: 0;overflow: hidden;text-align: left;background-color: #f0f8ff;}#sk-container-id-1 div.sk-toggleable__content pre {margin: 0.2em;color: black;border-radius: 0.25em;background-color: #f0f8ff;}#sk-container-id-1 input.sk-toggleable__control:checked~div.sk-toggleable__content {max-height: 200px;max-width: 100%;overflow: auto;}#sk-container-id-1 input.sk-toggleable__control:checked~label.sk-toggleable__label-arrow:before {content: \"▾\";}#sk-container-id-1 div.sk-estimator input.sk-toggleable__control:checked~label.sk-toggleable__label {background-color: #d4ebff;}#sk-container-id-1 div.sk-label input.sk-toggleable__control:checked~label.sk-toggleable__label {background-color: #d4ebff;}#sk-container-id-1 input.sk-hidden--visually {border: 0;clip: rect(1px 1px 1px 1px);clip: rect(1px, 1px, 1px, 1px);height: 1px;margin: -1px;overflow: hidden;padding: 0;position: absolute;width: 1px;}#sk-container-id-1 div.sk-estimator {font-family: monospace;background-color: #f0f8ff;border: 1px dotted black;border-radius: 0.25em;box-sizing: border-box;margin-bottom: 0.5em;}#sk-container-id-1 div.sk-estimator:hover {background-color: #d4ebff;}#sk-container-id-1 div.sk-parallel-item::after {content: \"\";width: 100%;border-bottom: 1px solid gray;flex-grow: 1;}#sk-container-id-1 div.sk-label:hover label.sk-toggleable__label {background-color: #d4ebff;}#sk-container-id-1 div.sk-serial::before {content: \"\";position: absolute;border-left: 1px solid gray;box-sizing: border-box;top: 0;bottom: 0;left: 50%;z-index: 0;}#sk-container-id-1 div.sk-serial {display: flex;flex-direction: column;align-items: center;background-color: white;padding-right: 0.2em;padding-left: 0.2em;position: relative;}#sk-container-id-1 div.sk-item {position: relative;z-index: 1;}#sk-container-id-1 div.sk-parallel {display: flex;align-items: stretch;justify-content: center;background-color: white;position: relative;}#sk-container-id-1 div.sk-item::before, #sk-container-id-1 div.sk-parallel-item::before {content: \"\";position: absolute;border-left: 1px solid gray;box-sizing: border-box;top: 0;bottom: 0;left: 50%;z-index: -1;}#sk-container-id-1 div.sk-parallel-item {display: flex;flex-direction: column;z-index: 1;position: relative;background-color: white;}#sk-container-id-1 div.sk-parallel-item:first-child::after {align-self: flex-end;width: 50%;}#sk-container-id-1 div.sk-parallel-item:last-child::after {align-self: flex-start;width: 50%;}#sk-container-id-1 div.sk-parallel-item:only-child::after {width: 0;}#sk-container-id-1 div.sk-dashed-wrapped {border: 1px dashed gray;margin: 0 0.4em 0.5em 0.4em;box-sizing: border-box;padding-bottom: 0.4em;background-color: white;}#sk-container-id-1 div.sk-label label {font-family: monospace;font-weight: bold;display: inline-block;line-height: 1.2em;}#sk-container-id-1 div.sk-label-container {text-align: center;}#sk-container-id-1 div.sk-container {/* jupyter's `normalize.less` sets `[hidden] { display: none; }` but bootstrap.min.css set `[hidden] { display: none !important; }` so we also need the `!important` here to be able to override the default hidden behavior on the sphinx rendered scikit-learn.org. See: https://github.com/scikit-learn/scikit-learn/issues/21755 */display: inline-block !important;position: relative;}#sk-container-id-1 div.sk-text-repr-fallback {display: none;}</style><div id=\"sk-container-id-1\" class=\"sk-top-container\"><div class=\"sk-text-repr-fallback\"><pre>LogisticRegression()</pre><b>In a Jupyter environment, please rerun this cell to show the HTML representation or trust the notebook. <br />On GitHub, the HTML representation is unable to render, please try loading this page with nbviewer.org.</b></div><div class=\"sk-container\" hidden><div class=\"sk-item\"><div class=\"sk-estimator sk-toggleable\"><input class=\"sk-toggleable__control sk-hidden--visually\" id=\"sk-estimator-id-1\" type=\"checkbox\" checked><label for=\"sk-estimator-id-1\" class=\"sk-toggleable__label sk-toggleable__label-arrow\">LogisticRegression</label><div class=\"sk-toggleable__content\"><pre>LogisticRegression()</pre></div></div></div></div></div>"
            ]
          },
          "metadata": {},
          "execution_count": 9
        }
      ]
    },
    {
      "cell_type": "code",
      "source": [
        "train_score, test_score = accuracy_score(model.predict(X_train), y_train), accuracy_score(model.predict(X_test), y_test)\n",
        "print(f'Точность модели на трейне {train_score}, на тесте {test_score}')"
      ],
      "metadata": {
        "colab": {
          "base_uri": "https://localhost:8080/"
        },
        "id": "T6qkYsgpLbes",
        "outputId": "253cd0a0-0499-4236-f08b-1263e8edf130"
      },
      "execution_count": null,
      "outputs": [
        {
          "output_type": "stream",
          "name": "stdout",
          "text": [
            "Точность модели на трейне 0.9828755045260394, на тесте 0.983635033827025\n"
          ]
        }
      ]
    },
    {
      "cell_type": "code",
      "source": [
        "!pip install pyspark"
      ],
      "metadata": {
        "colab": {
          "base_uri": "https://localhost:8080/"
        },
        "id": "WBq6NcBPMDvQ",
        "outputId": "ec4ed96f-ae20-4910-b87d-6a39fd6a4569"
      },
      "execution_count": null,
      "outputs": [
        {
          "output_type": "stream",
          "name": "stdout",
          "text": [
            "Collecting pyspark\n",
            "  Downloading pyspark-3.4.1.tar.gz (310.8 MB)\n",
            "\u001b[2K     \u001b[90m━━━━━━━━━━━━━━━━━━━━━━━━━━━━━━━━━━━━━━━\u001b[0m \u001b[32m310.8/310.8 MB\u001b[0m \u001b[31m2.5 MB/s\u001b[0m eta \u001b[36m0:00:00\u001b[0m\n",
            "\u001b[?25h  Preparing metadata (setup.py) ... \u001b[?25l\u001b[?25hdone\n",
            "Requirement already satisfied: py4j==0.10.9.7 in /usr/local/lib/python3.10/dist-packages (from pyspark) (0.10.9.7)\n",
            "Building wheels for collected packages: pyspark\n",
            "  Building wheel for pyspark (setup.py) ... \u001b[?25l\u001b[?25hdone\n",
            "  Created wheel for pyspark: filename=pyspark-3.4.1-py2.py3-none-any.whl size=311285397 sha256=1f8b0b63a3165aa206d23f2121eae96f6e53dd8d6bf26f86f7d003365627ec8d\n",
            "  Stored in directory: /root/.cache/pip/wheels/0d/77/a3/ff2f74cc9ab41f8f594dabf0579c2a7c6de920d584206e0834\n",
            "Successfully built pyspark\n",
            "Installing collected packages: pyspark\n",
            "Successfully installed pyspark-3.4.1\n"
          ]
        }
      ]
    },
    {
      "cell_type": "code",
      "source": [
        "from pyspark.sql import SparkSession\n",
        "spark = SparkSession.builder\\\n",
        "    .master(\"local[2]\")\\\n",
        "    .appName(\"Lesson_7\")\\\n",
        "    .config(\"spark.executor.instances\",2)\\\n",
        "    .config(\"spark.executor.memory\",'2g')\\\n",
        "    .config(\"spark.executor.cores\",1)\\\n",
        "    .getOrCreate()\n",
        "sc = spark.sparkContext"
      ],
      "metadata": {
        "id": "qygYHVeTMKVH"
      },
      "execution_count": null,
      "outputs": []
    },
    {
      "cell_type": "code",
      "source": [
        "spark"
      ],
      "metadata": {
        "colab": {
          "base_uri": "https://localhost:8080/",
          "height": 219
        },
        "id": "eBOAA-f9Txnk",
        "outputId": "e44f9c92-6de6-4084-bd7a-dc0e91c2dfce"
      },
      "execution_count": null,
      "outputs": [
        {
          "output_type": "execute_result",
          "data": {
            "text/plain": [
              "<pyspark.sql.session.SparkSession at 0x7fc940d6df00>"
            ],
            "text/html": [
              "\n",
              "            <div>\n",
              "                <p><b>SparkSession - in-memory</b></p>\n",
              "                \n",
              "        <div>\n",
              "            <p><b>SparkContext</b></p>\n",
              "\n",
              "            <p><a href=\"http://0cb882c8a9a4:4040\">Spark UI</a></p>\n",
              "\n",
              "            <dl>\n",
              "              <dt>Version</dt>\n",
              "                <dd><code>v3.4.1</code></dd>\n",
              "              <dt>Master</dt>\n",
              "                <dd><code>local[2]</code></dd>\n",
              "              <dt>AppName</dt>\n",
              "                <dd><code>Lesson_2</code></dd>\n",
              "            </dl>\n",
              "        </div>\n",
              "        \n",
              "            </div>\n",
              "        "
            ]
          },
          "metadata": {},
          "execution_count": 13
        }
      ]
    },
    {
      "cell_type": "code",
      "source": [
        "from pyspark.ml import Estimator\n",
        "from sklearn.linear_model import LogisticRegression\n",
        "from sklearn.datasets import make_classification\n",
        "from sklearn.model_selection import train_test_split\n",
        "\n",
        "from pyspark.ml.linalg import DenseVector\n",
        "from pyspark.sql.types import *\n",
        "\n",
        "import pyspark.sql.functions as F\n",
        "from pyspark.ml.feature import HashingTF, Tokenizer, IDF\n",
        "from pyspark.ml.classification import LogisticRegression, RandomForestClassifier\n",
        "from pyspark.ml import Pipeline\n",
        "from pyspark.sql.functions import col, min, expr, when, count\n",
        "from pyspark.sql.functions import desc, asc\n",
        "from pyspark.ml.feature import OneHotEncoder, StringIndexer, VectorAssembler, MinMaxScaler\n",
        "from pyspark.sql.types import IntegerType\n",
        "from pyspark.ml.linalg import Vectors\n",
        "from pyspark.ml.evaluation import BinaryClassificationEvaluator"
      ],
      "metadata": {
        "id": "ksgabftaMN4O"
      },
      "execution_count": null,
      "outputs": []
    },
    {
      "cell_type": "code",
      "source": [
        "#Считывание данных: для тех, у кого хоть раз были просрчоки больше 60 дней, ставлю в таргет 1.\n",
        "\n",
        "data1 = spark.read.csv('application_record.csv', header=True, inferSchema=True)\n",
        "record1 = spark.read.csv('credit_record.csv', header=True, inferSchema=True)"
      ],
      "metadata": {
        "id": "xfy3wE8o_65d"
      },
      "execution_count": null,
      "outputs": []
    },
    {
      "cell_type": "code",
      "source": [
        "#Добавляю срок кредита к параметрам выдачи кредита\n",
        "begin_month = record1.groupBy(\"ID\").agg(expr(\"-1 * min(MONTHS_BALANCE)\").alias(\"begin_month\"))\n",
        "new_data1 = data1.join(begin_month, on='ID', how='left')"
      ],
      "metadata": {
        "id": "H5hU68z5AJZl"
      },
      "execution_count": null,
      "outputs": []
    },
    {
      "cell_type": "code",
      "source": [
        "#Больше 60, то это просрочка, ставлю - Yes, если просрочка есть за срок кредита,то так же ставлю Yes\n",
        "# Джойним всё вместе,заменяем Yes и No на 1 и 0\n",
        "record1 = record1.withColumn('dep_value', when((col(\"STATUS\") == \"2\") | (col(\"STATUS\") == '3') | (col(\"STATUS\") == '4') | (col(\"STATUS\") == '5'), \"Yes\"))\n",
        "cpunt = record1.groupBy(\"ID\").agg(*[count(c).alias(c + \"_\") for c in record1.columns])\n",
        "cpunt = cpunt.withColumn('dep_value', when(col('dep_value_') > 0, 'Yes').\n",
        "                                      when(col('dep_value_') == 0, 'No'))\n",
        "cpunt2 = cpunt.select('ID', 'dep_value')\n",
        "new_data1 = new_data1.join(cpunt2, on='ID', how='inner')\n",
        "new_data1 = new_data1.withColumnRenamed('dep_value', 'target')\n",
        "new_data1 = new_data1.withColumn('target', when(col('target') == 'Yes', 1).otherwise(0))"
      ],
      "metadata": {
        "id": "JrrOjbGzAZhL"
      },
      "execution_count": null,
      "outputs": []
    },
    {
      "cell_type": "code",
      "source": [
        "#  В итоге к анкетным данным добавила таргет\n",
        "new_data1.show(3)"
      ],
      "metadata": {
        "colab": {
          "base_uri": "https://localhost:8080/"
        },
        "id": "SkqKXZYpBEUm",
        "outputId": "32980d4e-f806-49a0-9dfc-834762f65ad8"
      },
      "execution_count": null,
      "outputs": [
        {
          "output_type": "stream",
          "name": "stdout",
          "text": [
            "+-------+-----------+------------+---------------+------------+----------------+----------------+--------------------+------------------+-----------------+----------+-------------+----------+---------------+----------+----------+---------------+---------------+-----------+------+\n",
            "|     ID|CODE_GENDER|FLAG_OWN_CAR|FLAG_OWN_REALTY|CNT_CHILDREN|AMT_INCOME_TOTAL|NAME_INCOME_TYPE| NAME_EDUCATION_TYPE|NAME_FAMILY_STATUS|NAME_HOUSING_TYPE|DAYS_BIRTH|DAYS_EMPLOYED|FLAG_MOBIL|FLAG_WORK_PHONE|FLAG_PHONE|FLAG_EMAIL|OCCUPATION_TYPE|CNT_FAM_MEMBERS|begin_month|target|\n",
            "+-------+-----------+------------+---------------+------------+----------------+----------------+--------------------+------------------+-----------------+----------+-------------+----------+---------------+----------+----------+---------------+---------------+-----------+------+\n",
            "|5008804|          M|           Y|              Y|           0|        427500.0|         Working|    Higher education|    Civil marriage| Rented apartment|    -12005|        -4542|         1|              1|         0|         0|           null|            2.0|         15|     0|\n",
            "|5008805|          M|           Y|              Y|           0|        427500.0|         Working|    Higher education|    Civil marriage| Rented apartment|    -12005|        -4542|         1|              1|         0|         0|           null|            2.0|         14|     0|\n",
            "|5008806|          M|           Y|              Y|           0|        112500.0|         Working|Secondary / secon...|           Married|House / apartment|    -21474|        -1134|         1|              0|         0|         0| Security staff|            2.0|         29|     0|\n",
            "+-------+-----------+------------+---------------+------------+----------------+----------------+--------------------+------------------+-----------------+----------+-------------+----------+---------------+----------+----------+---------------+---------------+-----------+------+\n",
            "only showing top 3 rows\n",
            "\n"
          ]
        }
      ]
    },
    {
      "cell_type": "code",
      "source": [
        "# оставляю только часть признаков, упрощая задачу\n",
        "features = ['AMT_INCOME_TOTAL', 'CODE_GENDER', 'FLAG_OWN_CAR', 'FLAG_OWN_REALTY', 'CNT_CHILDREN']\n",
        "target = ['target',]\n",
        "dataset1 = new_data1.select(*(features + target))\n",
        "# dataset1 = dataset1.withColumn(\"AMT_INCOME_TOTAL\", col(\"AMT_INCOME_TOTAL\").cast('vector'))\n",
        "dataset1.explain"
      ],
      "metadata": {
        "colab": {
          "base_uri": "https://localhost:8080/"
        },
        "id": "vty_GAmdBVSg",
        "outputId": "d9491281-5a56-480e-a4b6-43de5d2b2736"
      },
      "execution_count": null,
      "outputs": [
        {
          "output_type": "execute_result",
          "data": {
            "text/plain": [
              "<bound method DataFrame.explain of DataFrame[AMT_INCOME_TOTAL: double, CODE_GENDER: string, FLAG_OWN_CAR: string, FLAG_OWN_REALTY: string, CNT_CHILDREN: int, target: int]>"
            ]
          },
          "metadata": {},
          "execution_count": 23
        }
      ]
    },
    {
      "cell_type": "code",
      "source": [
        "# Разделение датасета на train и test\n",
        "train_ratio1 = 0.7\n",
        "test_ratio1 = 1 - train_ratio1\n",
        "train_data1, test_data1 = dataset1.randomSplit([train_ratio1, test_ratio1], seed=42)\n",
        "train_data1.show()"
      ],
      "metadata": {
        "colab": {
          "base_uri": "https://localhost:8080/"
        },
        "id": "65fupx8RBsU8",
        "outputId": "2f9729e7-0bd3-43c7-e5da-454c28dcc461"
      },
      "execution_count": null,
      "outputs": [
        {
          "output_type": "stream",
          "name": "stdout",
          "text": [
            "+----------------+-----------+------------+---------------+------------+------+\n",
            "|AMT_INCOME_TOTAL|CODE_GENDER|FLAG_OWN_CAR|FLAG_OWN_REALTY|CNT_CHILDREN|target|\n",
            "+----------------+-----------+------------+---------------+------------+------+\n",
            "|         27000.0|          F|           N|              N|           0|     0|\n",
            "|         27000.0|          F|           N|              N|           0|     0|\n",
            "|         29250.0|          F|           Y|              Y|           0|     0|\n",
            "|         29250.0|          F|           Y|              Y|           0|     0|\n",
            "|         29250.0|          F|           Y|              Y|           0|     0|\n",
            "|         29250.0|          F|           Y|              Y|           0|     0|\n",
            "|         30150.0|          M|           N|              Y|           0|     0|\n",
            "|         30150.0|          M|           N|              Y|           0|     0|\n",
            "|         30150.0|          M|           N|              Y|           0|     0|\n",
            "|         31500.0|          F|           Y|              N|           0|     0|\n",
            "|         31500.0|          F|           Y|              N|           0|     0|\n",
            "|         31500.0|          F|           Y|              N|           0|     0|\n",
            "|         31500.0|          F|           Y|              N|           0|     0|\n",
            "|         31500.0|          M|           N|              Y|           0|     0|\n",
            "|         31500.0|          M|           N|              Y|           0|     0|\n",
            "|         31500.0|          M|           N|              Y|           0|     0|\n",
            "|         31500.0|          M|           N|              Y|           0|     0|\n",
            "|         31531.5|          F|           Y|              N|           0|     0|\n",
            "|         32400.0|          F|           N|              Y|           0|     0|\n",
            "|         32400.0|          F|           N|              Y|           0|     0|\n",
            "+----------------+-----------+------------+---------------+------------+------+\n",
            "only showing top 20 rows\n",
            "\n"
          ]
        }
      ]
    },
    {
      "cell_type": "code",
      "source": [
        "categorical_cols = ['CODE_GENDER', 'FLAG_OWN_CAR', 'FLAG_OWN_REALTY']\n",
        "numeric_cols = ['AMT_INCOME_TOTAL', 'CNT_CHILDREN']\n",
        "\n",
        "\n",
        "stages = []\n",
        "\n",
        "for col in categorical_cols:\n",
        "    indexer = StringIndexer(inputCol=col, outputCol=col + \"_INDEX\")\n",
        "    stages.append(indexer)\n",
        "\n",
        "\n",
        "pipeline = Pipeline(stages=stages)\n",
        "\n",
        "\n",
        "indexed_train_data1 = pipeline.fit(train_data1).transform(train_data1)\n",
        "indexed_test_data1 = pipeline.fit(test_data1).transform(test_data1)\n",
        "# Show the transformed data\n",
        "indexed_train_data1.show(3)\n",
        "indexed_test_data1.show(3)"
      ],
      "metadata": {
        "colab": {
          "base_uri": "https://localhost:8080/"
        },
        "id": "69idG4kUCEeE",
        "outputId": "a7b89186-22c1-4fad-b0ed-b9fac29ce3f1"
      },
      "execution_count": null,
      "outputs": [
        {
          "output_type": "stream",
          "name": "stdout",
          "text": [
            "+----------------+-----------+------------+---------------+------------+------+-----------------+------------------+---------------------+\n",
            "|AMT_INCOME_TOTAL|CODE_GENDER|FLAG_OWN_CAR|FLAG_OWN_REALTY|CNT_CHILDREN|target|CODE_GENDER_INDEX|FLAG_OWN_CAR_INDEX|FLAG_OWN_REALTY_INDEX|\n",
            "+----------------+-----------+------------+---------------+------------+------+-----------------+------------------+---------------------+\n",
            "|         27000.0|          F|           N|              N|           0|     0|              0.0|               0.0|                  1.0|\n",
            "|         27000.0|          F|           N|              N|           0|     0|              0.0|               0.0|                  1.0|\n",
            "|         29250.0|          F|           Y|              Y|           0|     0|              0.0|               1.0|                  0.0|\n",
            "+----------------+-----------+------------+---------------+------------+------+-----------------+------------------+---------------------+\n",
            "only showing top 3 rows\n",
            "\n",
            "+----------------+-----------+------------+---------------+------------+------+-----------------+------------------+---------------------+\n",
            "|AMT_INCOME_TOTAL|CODE_GENDER|FLAG_OWN_CAR|FLAG_OWN_REALTY|CNT_CHILDREN|target|CODE_GENDER_INDEX|FLAG_OWN_CAR_INDEX|FLAG_OWN_REALTY_INDEX|\n",
            "+----------------+-----------+------------+---------------+------------+------+-----------------+------------------+---------------------+\n",
            "|         27000.0|          F|           N|              Y|           0|     0|              0.0|               0.0|                  0.0|\n",
            "|         29250.0|          F|           Y|              Y|           0|     0|              0.0|               1.0|                  0.0|\n",
            "|         29250.0|          F|           Y|              Y|           0|     0|              0.0|               1.0|                  0.0|\n",
            "+----------------+-----------+------------+---------------+------------+------+-----------------+------------------+---------------------+\n",
            "only showing top 3 rows\n",
            "\n"
          ]
        }
      ]
    },
    {
      "cell_type": "code",
      "source": [
        "# OneHotEncoder для категориальных колонок\n",
        "\n",
        "onehot_encoder = OneHotEncoder(inputCols=[col + '_INDEX' for col in categorical_cols], outputCols=[col + \"_encoded\" for col in categorical_cols])\n",
        "\n",
        "# Применяю OneHotEncoder к train_df\n",
        "train_encoded1 = onehot_encoder.fit(indexed_train_data1).transform(indexed_train_data1)\n",
        "\n",
        "# Применяю OneHotEncoder к test_df\n",
        "test_encoded1 = onehot_encoder.fit(indexed_test_data1).transform(indexed_test_data1)\n",
        "\n",
        "train_encoded1.show(3)\n",
        "test_encoded1.show(3)"
      ],
      "metadata": {
        "colab": {
          "base_uri": "https://localhost:8080/"
        },
        "id": "OlJkXyQKCkhT",
        "outputId": "65e46ac5-d7f8-46d2-e4be-3c5f4871c80a"
      },
      "execution_count": null,
      "outputs": [
        {
          "output_type": "stream",
          "name": "stdout",
          "text": [
            "+----------------+-----------+------------+---------------+------------+------+-----------------+------------------+---------------------+-------------------+--------------------+-----------------------+\n",
            "|AMT_INCOME_TOTAL|CODE_GENDER|FLAG_OWN_CAR|FLAG_OWN_REALTY|CNT_CHILDREN|target|CODE_GENDER_INDEX|FLAG_OWN_CAR_INDEX|FLAG_OWN_REALTY_INDEX|CODE_GENDER_encoded|FLAG_OWN_CAR_encoded|FLAG_OWN_REALTY_encoded|\n",
            "+----------------+-----------+------------+---------------+------------+------+-----------------+------------------+---------------------+-------------------+--------------------+-----------------------+\n",
            "|         27000.0|          F|           N|              N|           0|     0|              0.0|               0.0|                  1.0|      (1,[0],[1.0])|       (1,[0],[1.0])|              (1,[],[])|\n",
            "|         27000.0|          F|           N|              N|           0|     0|              0.0|               0.0|                  1.0|      (1,[0],[1.0])|       (1,[0],[1.0])|              (1,[],[])|\n",
            "|         29250.0|          F|           Y|              Y|           0|     0|              0.0|               1.0|                  0.0|      (1,[0],[1.0])|           (1,[],[])|          (1,[0],[1.0])|\n",
            "+----------------+-----------+------------+---------------+------------+------+-----------------+------------------+---------------------+-------------------+--------------------+-----------------------+\n",
            "only showing top 3 rows\n",
            "\n",
            "+----------------+-----------+------------+---------------+------------+------+-----------------+------------------+---------------------+-------------------+--------------------+-----------------------+\n",
            "|AMT_INCOME_TOTAL|CODE_GENDER|FLAG_OWN_CAR|FLAG_OWN_REALTY|CNT_CHILDREN|target|CODE_GENDER_INDEX|FLAG_OWN_CAR_INDEX|FLAG_OWN_REALTY_INDEX|CODE_GENDER_encoded|FLAG_OWN_CAR_encoded|FLAG_OWN_REALTY_encoded|\n",
            "+----------------+-----------+------------+---------------+------------+------+-----------------+------------------+---------------------+-------------------+--------------------+-----------------------+\n",
            "|         27000.0|          F|           N|              Y|           0|     0|              0.0|               0.0|                  0.0|      (1,[0],[1.0])|       (1,[0],[1.0])|          (1,[0],[1.0])|\n",
            "|         29250.0|          F|           Y|              Y|           0|     0|              0.0|               1.0|                  0.0|      (1,[0],[1.0])|           (1,[],[])|          (1,[0],[1.0])|\n",
            "|         29250.0|          F|           Y|              Y|           0|     0|              0.0|               1.0|                  0.0|      (1,[0],[1.0])|           (1,[],[])|          (1,[0],[1.0])|\n",
            "+----------------+-----------+------------+---------------+------------+------+-----------------+------------------+---------------------+-------------------+--------------------+-----------------------+\n",
            "only showing top 3 rows\n",
            "\n"
          ]
        }
      ]
    },
    {
      "cell_type": "code",
      "source": [
        "# VectorAssembler для объединения признаков\n",
        "assembler = VectorAssembler(inputCols=train_encoded1.columns[9:] + numeric_cols, outputCol=\"features\")\n",
        "\n",
        "# Применяем VectorAssembler к train_encoded\n",
        "train_transformed1 = assembler.transform(train_encoded1).select(\"target\", \"features\")\n",
        "\n",
        "# Применяем VectorAssembler к test_encoded\n",
        "test_transformed1 = assembler.transform(test_encoded1).select(\"target\", \"features\")"
      ],
      "metadata": {
        "id": "jq6o00-xC0Pq"
      },
      "execution_count": null,
      "outputs": []
    },
    {
      "cell_type": "code",
      "source": [
        "train_transformed1.show(3)"
      ],
      "metadata": {
        "colab": {
          "base_uri": "https://localhost:8080/"
        },
        "id": "moUeNP9fC60f",
        "outputId": "f507daf7-4c43-4fa1-fac1-04d25a8103ba"
      },
      "execution_count": null,
      "outputs": [
        {
          "output_type": "stream",
          "name": "stdout",
          "text": [
            "+------+--------------------+\n",
            "|target|            features|\n",
            "+------+--------------------+\n",
            "|     0|[1.0,1.0,0.0,2700...|\n",
            "|     0|[1.0,1.0,0.0,2700...|\n",
            "|     0|[1.0,0.0,1.0,2925...|\n",
            "+------+--------------------+\n",
            "only showing top 3 rows\n",
            "\n"
          ]
        }
      ]
    },
    {
      "cell_type": "code",
      "source": [
        "# Создаю модель Logistic Regression\n",
        "LR1 = LogisticRegression(featuresCol=\"features\", labelCol=\"target\")\n",
        "\n",
        "# Обучаю модель на тренировочной выборке\n",
        "model = LR1.fit(train_transformed1)\n",
        "\n",
        "# Осуществляю прогнозирование на тестовой выборке\n",
        "predictions = model.transform(test_transformed1)\n",
        "\n",
        "# Провожу оценку модели\n",
        "evaluator = BinaryClassificationEvaluator(labelCol=\"target\")\n",
        "accuracy = evaluator.evaluate(predictions)\n",
        "print(\"Точность модели:\", accuracy)"
      ],
      "metadata": {
        "colab": {
          "base_uri": "https://localhost:8080/"
        },
        "id": "DaWmHODMC-v4",
        "outputId": "7a0a2415-c4a8-439e-a570-c9c749db0358"
      },
      "execution_count": null,
      "outputs": [
        {
          "output_type": "stream",
          "name": "stdout",
          "text": [
            "Точность модели: 0.5088000026189786\n"
          ]
        }
      ]
    },
    {
      "cell_type": "code",
      "source": [
        "spark.stop()"
      ],
      "metadata": {
        "id": "s7WH7HExVJXg"
      },
      "execution_count": null,
      "outputs": []
    }
  ]
}