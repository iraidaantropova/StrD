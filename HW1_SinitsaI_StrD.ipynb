{
  "nbformat": 4,
  "nbformat_minor": 0,
  "metadata": {
    "colab": {
      "provenance": [],
      "authorship_tag": "ABX9TyPaNxW2uhnrciGwcycfFIxE",
      "include_colab_link": true
    },
    "kernelspec": {
      "name": "python3",
      "display_name": "Python 3"
    },
    "language_info": {
      "name": "python"
    }
  },
  "cells": [
    {
      "cell_type": "markdown",
      "metadata": {
        "id": "view-in-github",
        "colab_type": "text"
      },
      "source": [
        "<a href=\"https://colab.research.google.com/github/iraidaantropova/StrD/blob/main/HW1_SinitsaI_StrD.ipynb\" target=\"_parent\"><img src=\"https://colab.research.google.com/assets/colab-badge.svg\" alt=\"Open In Colab\"/></a>"
      ]
    },
    {
      "cell_type": "code",
      "execution_count": 1,
      "metadata": {
        "colab": {
          "base_uri": "https://localhost:8080/"
        },
        "id": "ZGxkXgU_ZZsp",
        "outputId": "945475f0-e263-404b-add8-d8625f5a3513"
      },
      "outputs": [
        {
          "output_type": "stream",
          "name": "stdout",
          "text": [
            "Collecting pyspark\n",
            "  Downloading pyspark-3.5.0.tar.gz (316.9 MB)\n",
            "\u001b[2K     \u001b[90m━━━━━━━━━━━━━━━━━━━━━━━━━━━━━━━━━━━━━━━\u001b[0m \u001b[32m316.9/316.9 MB\u001b[0m \u001b[31m4.6 MB/s\u001b[0m eta \u001b[36m0:00:00\u001b[0m\n",
            "\u001b[?25h  Preparing metadata (setup.py) ... \u001b[?25l\u001b[?25hdone\n",
            "Requirement already satisfied: py4j==0.10.9.7 in /usr/local/lib/python3.10/dist-packages (from pyspark) (0.10.9.7)\n",
            "Building wheels for collected packages: pyspark\n",
            "  Building wheel for pyspark (setup.py) ... \u001b[?25l\u001b[?25hdone\n",
            "  Created wheel for pyspark: filename=pyspark-3.5.0-py2.py3-none-any.whl size=317425344 sha256=0c72f7a521105c0618b090a1cb483c6d0c71e174b7e43700323f4cad1198e79f\n",
            "  Stored in directory: /root/.cache/pip/wheels/41/4e/10/c2cf2467f71c678cfc8a6b9ac9241e5e44a01940da8fbb17fc\n",
            "Successfully built pyspark\n",
            "Installing collected packages: pyspark\n",
            "Successfully installed pyspark-3.5.0\n"
          ]
        }
      ],
      "source": [
        "!pip install pyspark\n"
      ]
    },
    {
      "cell_type": "code",
      "source": [
        "from pyspark.sql import SparkSession, DataFrame, functions as F\n",
        "from pyspark.sql.types import StringType, StructType"
      ],
      "metadata": {
        "id": "vYUI23ZxZy6d"
      },
      "execution_count": 2,
      "outputs": []
    },
    {
      "cell_type": "code",
      "source": [
        "#работа с потоками\n",
        "spark = SparkSession.builder.appName(\"gogin_spark\").getOrCreate()"
      ],
      "metadata": {
        "id": "g0_zzy_yaD5N"
      },
      "execution_count": 4,
      "outputs": []
    },
    {
      "cell_type": "code",
      "source": [
        "### Rate sourse\n",
        "raw_rate = spark \\\n",
        "  .readStream \\\n",
        "  .format('rate') \\\n",
        "  .load()"
      ],
      "metadata": {
        "id": "-6JeDp-eawn5"
      },
      "execution_count": 5,
      "outputs": []
    },
    {
      "cell_type": "code",
      "source": [
        "raw_rate.printSchema()"
      ],
      "metadata": {
        "colab": {
          "base_uri": "https://localhost:8080/"
        },
        "id": "EKlDo8tQa0aB",
        "outputId": "7eff80e4-e579-4ea0-a073-12840f6ee49e"
      },
      "execution_count": 6,
      "outputs": [
        {
          "output_type": "stream",
          "name": "stdout",
          "text": [
            "root\n",
            " |-- timestamp: timestamp (nullable = true)\n",
            " |-- value: long (nullable = true)\n",
            "\n"
          ]
        }
      ]
    },
    {
      "cell_type": "code",
      "source": [
        "raw_rate.isStreaming"
      ],
      "metadata": {
        "colab": {
          "base_uri": "https://localhost:8080/"
        },
        "id": "RwEB9prNa3qR",
        "outputId": "2b544658-6d82-4e37-e40c-cb2e9d91f473"
      },
      "execution_count": 7,
      "outputs": [
        {
          "output_type": "execute_result",
          "data": {
            "text/plain": [
              "True"
            ]
          },
          "metadata": {},
          "execution_count": 7
        }
      ]
    },
    {
      "cell_type": "code",
      "source": [
        "!pwd"
      ],
      "metadata": {
        "colab": {
          "base_uri": "https://localhost:8080/"
        },
        "id": "WMbhL5v_bBTX",
        "outputId": "4c4222ab-c702-481c-ead9-dd62e3f0e7fd"
      },
      "execution_count": 8,
      "outputs": [
        {
          "output_type": "stream",
          "name": "stdout",
          "text": [
            "/content\n"
          ]
        }
      ]
    },
    {
      "cell_type": "code",
      "source": [
        "stream = raw_rate.writeStream \\\n",
        "  .trigger(processingTime='30 seconds') \\\n",
        "  .format('csv') \\\n",
        "  .option(\"path\", \"/content\") \\\n",
        "  .option(\"checkpointLocation\", \"/content\") \\\n",
        "  .start()"
      ],
      "metadata": {
        "id": "ph9cVRvMbD4e"
      },
      "execution_count": 9,
      "outputs": []
    },
    {
      "cell_type": "code",
      "source": [
        "stream.status"
      ],
      "metadata": {
        "colab": {
          "base_uri": "https://localhost:8080/"
        },
        "id": "H3K31bU4bHGu",
        "outputId": "7336dfeb-4720-4125-d698-cc8150844c99"
      },
      "execution_count": 10,
      "outputs": [
        {
          "output_type": "execute_result",
          "data": {
            "text/plain": [
              "{'message': 'Waiting for next trigger',\n",
              " 'isDataAvailable': True,\n",
              " 'isTriggerActive': False}"
            ]
          },
          "metadata": {},
          "execution_count": 10
        }
      ]
    },
    {
      "cell_type": "code",
      "source": [
        "stream.explain()"
      ],
      "metadata": {
        "colab": {
          "base_uri": "https://localhost:8080/"
        },
        "id": "KUrtwl3bbKOG",
        "outputId": "00f790b5-a239-4231-d4e4-93ed267224f7"
      },
      "execution_count": 11,
      "outputs": [
        {
          "output_type": "stream",
          "name": "stdout",
          "text": [
            "== Physical Plan ==\n",
            "*(1) Project [timestamp#0, value#1L]\n",
            "+- MicroBatchScan[timestamp#0, value#1L] class org.apache.spark.sql.execution.streaming.sources.RateStreamTable$$anon$1\n",
            "\n",
            "\n"
          ]
        }
      ]
    },
    {
      "cell_type": "code",
      "source": [
        "stream.isActive"
      ],
      "metadata": {
        "colab": {
          "base_uri": "https://localhost:8080/"
        },
        "id": "ytmL-7pZbM4e",
        "outputId": "3d2e934c-183f-4ba0-ad77-faf1e8d22f20"
      },
      "execution_count": 12,
      "outputs": [
        {
          "output_type": "execute_result",
          "data": {
            "text/plain": [
              "True"
            ]
          },
          "metadata": {},
          "execution_count": 12
        }
      ]
    },
    {
      "cell_type": "code",
      "source": [
        "stream.lastProgress"
      ],
      "metadata": {
        "colab": {
          "base_uri": "https://localhost:8080/"
        },
        "id": "Hlva4VSobPQ1",
        "outputId": "6680cf1c-2e60-4bab-f635-88b0aa0ba22b"
      },
      "execution_count": 13,
      "outputs": [
        {
          "output_type": "execute_result",
          "data": {
            "text/plain": [
              "{'id': '3756e0a0-3643-4d3a-8bb7-2e85a1309ea4',\n",
              " 'runId': 'eaddbd70-264a-424e-9875-adbc947b46ac',\n",
              " 'name': None,\n",
              " 'timestamp': '2023-10-10T02:31:30.000Z',\n",
              " 'batchId': 2,\n",
              " 'numInputRows': 30,\n",
              " 'inputRowsPerSecond': 1.0,\n",
              " 'processedRowsPerSecond': 121.45748987854252,\n",
              " 'durationMs': {'addBatch': 175,\n",
              "  'commitOffsets': 34,\n",
              "  'getBatch': 1,\n",
              "  'latestOffset': 0,\n",
              "  'queryPlanning': 11,\n",
              "  'triggerExecution': 247,\n",
              "  'walCommit': 20},\n",
              " 'stateOperators': [],\n",
              " 'sources': [{'description': 'RateStreamV2[rowsPerSecond=1, rampUpTimeSeconds=0, numPartitions=default',\n",
              "   'startOffset': 11,\n",
              "   'endOffset': 41,\n",
              "   'latestOffset': 41,\n",
              "   'numInputRows': 30,\n",
              "   'inputRowsPerSecond': 1.0,\n",
              "   'processedRowsPerSecond': 121.45748987854252}],\n",
              " 'sink': {'description': 'FileSink[/content]', 'numOutputRows': -1}}"
            ]
          },
          "metadata": {},
          "execution_count": 13
        }
      ]
    },
    {
      "cell_type": "code",
      "source": [
        "stream.stop()"
      ],
      "metadata": {
        "id": "BMcJKwY_bUcW"
      },
      "execution_count": 14,
      "outputs": []
    }
  ]
}