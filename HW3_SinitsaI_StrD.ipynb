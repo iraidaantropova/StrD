{
  "nbformat": 4,
  "nbformat_minor": 0,
  "metadata": {
    "colab": {
      "provenance": [],
      "authorship_tag": "ABX9TyMUMJCQiD7xEHVwzPS3cDTR",
      "include_colab_link": true
    },
    "kernelspec": {
      "name": "python3",
      "display_name": "Python 3"
    },
    "language_info": {
      "name": "python"
    }
  },
  "cells": [
    {
      "cell_type": "markdown",
      "metadata": {
        "id": "view-in-github",
        "colab_type": "text"
      },
      "source": [
        "<a href=\"https://colab.research.google.com/github/iraidaantropova/StrD/blob/main/HW3_SinitsaI_StrD.ipynb\" target=\"_parent\"><img src=\"https://colab.research.google.com/assets/colab-badge.svg\" alt=\"Open In Colab\"/></a>"
      ]
    },
    {
      "cell_type": "code",
      "execution_count": 22,
      "metadata": {
        "colab": {
          "base_uri": "https://localhost:8080/"
        },
        "id": "Z8xuMVzBnHX3",
        "outputId": "bcf00f85-716c-4bd2-9be7-d2fcbf9c3ef6"
      },
      "outputs": [
        {
          "output_type": "stream",
          "name": "stdout",
          "text": [
            "22 packages can be upgraded. Run 'apt list --upgradable' to see them.\n",
            "\u001b[1;33mW: \u001b[0mhttps://download.docker.com/linux/ubuntu/dists/jammy/InRelease: Key is stored in legacy trusted.gpg keyring (/etc/apt/trusted.gpg), see the DEPRECATION section in apt-key(8) for details.\u001b[0m\n"
          ]
        }
      ],
      "source": [
        "!sudo apt update -qq"
      ]
    },
    {
      "cell_type": "code",
      "source": [
        "!sudo apt install apt-transport-https ca-certificates curl software-properties-common -qq"
      ],
      "metadata": {
        "colab": {
          "base_uri": "https://localhost:8080/"
        },
        "id": "8rzvyOhKq8iS",
        "outputId": "8f73cde3-1403-4940-dd23-c85d4c70412c"
      },
      "execution_count": 23,
      "outputs": [
        {
          "output_type": "stream",
          "name": "stdout",
          "text": [
            "ca-certificates is already the newest version (20230311ubuntu0.22.04.1).\n",
            "curl is already the newest version (7.81.0-1ubuntu1.14).\n",
            "software-properties-common is already the newest version (0.99.22.7).\n",
            "apt-transport-https is already the newest version (2.4.10).\n",
            "0 upgraded, 0 newly installed, 0 to remove and 22 not upgraded.\n"
          ]
        }
      ]
    },
    {
      "cell_type": "code",
      "source": [
        "!curl -fsSL https://download.docker.com/linux/ubuntu/gpg | sudo apt-key add -"
      ],
      "metadata": {
        "colab": {
          "base_uri": "https://localhost:8080/"
        },
        "id": "9PiOguHArCFJ",
        "outputId": "cd221fb3-dda1-4570-c411-a4d373259375"
      },
      "execution_count": 24,
      "outputs": [
        {
          "output_type": "stream",
          "name": "stdout",
          "text": [
            "Warning: apt-key is deprecated. Manage keyring files in trusted.gpg.d instead (see apt-key(8)).\n",
            "OK\n"
          ]
        }
      ]
    },
    {
      "cell_type": "code",
      "source": [
        "!sudo add-apt-repository \"deb [arch=amd64] https://download.docker.com/linux/ubuntu bionic stable\"\n",
        "!sudo apt update -qq\n",
        "!sudo apt install docker-ce\n"
      ],
      "metadata": {
        "colab": {
          "base_uri": "https://localhost:8080/"
        },
        "id": "Qyxcn9S9rPIQ",
        "outputId": "2e419719-102d-4416-a6b7-85c1e921d21b"
      },
      "execution_count": 25,
      "outputs": [
        {
          "output_type": "stream",
          "name": "stdout",
          "text": [
            "Repository: 'deb [arch=amd64] https://download.docker.com/linux/ubuntu bionic stable'\n",
            "Description:\n",
            "Archive for codename: bionic components: stable\n",
            "More info: https://download.docker.com/linux/ubuntu\n",
            "Adding repository.\n",
            "Press [ENTER] to continue or Ctrl-c to cancel.\n",
            "Adding deb entry to /etc/apt/sources.list.d/archive_uri-https_download_docker_com_linux_ubuntu-jammy.list\n",
            "Adding disabled deb-src entry to /etc/apt/sources.list.d/archive_uri-https_download_docker_com_linux_ubuntu-jammy.list\n",
            "Hit:1 http://security.ubuntu.com/ubuntu jammy-security InRelease\n",
            "Hit:2 https://download.docker.com/linux/ubuntu jammy InRelease\n",
            "Get:3 https://download.docker.com/linux/ubuntu bionic InRelease [64.4 kB]\n",
            "Hit:4 https://developer.download.nvidia.com/compute/cuda/repos/ubuntu2204/x86_64  InRelease\n",
            "Hit:5 https://cloud.r-project.org/bin/linux/ubuntu jammy-cran40/ InRelease\n",
            "Hit:6 http://archive.ubuntu.com/ubuntu jammy InRelease\n",
            "Hit:7 http://archive.ubuntu.com/ubuntu jammy-updates InRelease\n",
            "Hit:8 http://archive.ubuntu.com/ubuntu jammy-backports InRelease\n",
            "Hit:9 https://ppa.launchpadcontent.net/c2d4u.team/c2d4u4.0+/ubuntu jammy InRelease\n",
            "Get:10 https://download.docker.com/linux/ubuntu bionic/stable amd64 Packages [46.4 kB]\n",
            "Hit:11 https://ppa.launchpadcontent.net/deadsnakes/ppa/ubuntu jammy InRelease\n",
            "Hit:12 https://ppa.launchpadcontent.net/graphics-drivers/ppa/ubuntu jammy InRelease\n",
            "Hit:13 https://ppa.launchpadcontent.net/ubuntugis/ppa/ubuntu jammy InRelease\n",
            "Fetched 111 kB in 2s (52.5 kB/s)\n",
            "Reading package lists... Done\n",
            "W: https://download.docker.com/linux/ubuntu/dists/jammy/InRelease: Key is stored in legacy trusted.gpg keyring (/etc/apt/trusted.gpg), see the DEPRECATION section in apt-key(8) for details.\n",
            "W: https://download.docker.com/linux/ubuntu/dists/bionic/InRelease: Key is stored in legacy trusted.gpg keyring (/etc/apt/trusted.gpg), see the DEPRECATION section in apt-key(8) for details.\n",
            "22 packages can be upgraded. Run 'apt list --upgradable' to see them.\n",
            "\u001b[1;33mW: \u001b[0mhttps://download.docker.com/linux/ubuntu/dists/jammy/InRelease: Key is stored in legacy trusted.gpg keyring (/etc/apt/trusted.gpg), see the DEPRECATION section in apt-key(8) for details.\u001b[0m\n",
            "\u001b[1;33mW: \u001b[0mhttps://download.docker.com/linux/ubuntu/dists/bionic/InRelease: Key is stored in legacy trusted.gpg keyring (/etc/apt/trusted.gpg), see the DEPRECATION section in apt-key(8) for details.\u001b[0m\n",
            "Reading package lists... Done\n",
            "Building dependency tree... Done\n",
            "Reading state information... Done\n",
            "docker-ce is already the newest version (5:24.0.6-1~ubuntu.22.04~jammy).\n",
            "0 upgraded, 0 newly installed, 0 to remove and 22 not upgraded.\n"
          ]
        }
      ]
    },
    {
      "cell_type": "code",
      "source": [
        "!docker"
      ],
      "metadata": {
        "colab": {
          "base_uri": "https://localhost:8080/"
        },
        "id": "veK3KDmpudwW",
        "outputId": "d5565dee-a4be-44cf-85d9-69f3d5670e7a"
      },
      "execution_count": 26,
      "outputs": [
        {
          "output_type": "stream",
          "name": "stdout",
          "text": [
            "\n",
            "Usage:  docker [OPTIONS] COMMAND\n",
            "\n",
            "A self-sufficient runtime for containers\n",
            "\n",
            "Common Commands:\n",
            "  run         Create and run a new container from an image\n",
            "  exec        Execute a command in a running container\n",
            "  ps          List containers\n",
            "  build       Build an image from a Dockerfile\n",
            "  pull        Download an image from a registry\n",
            "  push        Upload an image to a registry\n",
            "  images      List images\n",
            "  login       Log in to a registry\n",
            "  logout      Log out from a registry\n",
            "  search      Search Docker Hub for images\n",
            "  version     Show the Docker version information\n",
            "  info        Display system-wide information\n",
            "\n",
            "Management Commands:\n",
            "  builder     Manage builds\n",
            "  buildx*     Docker Buildx (Docker Inc., v0.11.2)\n",
            "  checkpoint  Manage checkpoints\n",
            "  compose*    Docker Compose (Docker Inc., v2.21.0)\n",
            "  container   Manage containers\n",
            "  context     Manage contexts\n",
            "  image       Manage images\n",
            "  manifest    Manage Docker image manifests and manifest lists\n",
            "  network     Manage networks\n",
            "  plugin      Manage plugins\n",
            "  system      Manage Docker\n",
            "  trust       Manage trust on Docker images\n",
            "  volume      Manage volumes\n",
            "\n",
            "Swarm Commands:\n",
            "  config      Manage Swarm configs\n",
            "  node        Manage Swarm nodes\n",
            "  secret      Manage Swarm secrets\n",
            "  service     Manage Swarm services\n",
            "  stack       Manage Swarm stacks\n",
            "  swarm       Manage Swarm\n",
            "\n",
            "Commands:\n",
            "  attach      Attach local standard input, output, and error streams to a running container\n",
            "  commit      Create a new image from a container's changes\n",
            "  cp          Copy files/folders between a container and the local filesystem\n",
            "  create      Create a new container\n",
            "  diff        Inspect changes to files or directories on a container's filesystem\n",
            "  events      Get real time events from the server\n",
            "  export      Export a container's filesystem as a tar archive\n",
            "  history     Show the history of an image\n",
            "  import      Import the contents from a tarball to create a filesystem image\n",
            "  inspect     Return low-level information on Docker objects\n",
            "  kill        Kill one or more running containers\n",
            "  load        Load an image from a tar archive or STDIN\n",
            "  logs        Fetch the logs of a container\n",
            "  pause       Pause all processes within one or more containers\n",
            "  port        List port mappings or a specific mapping for the container\n",
            "  rename      Rename a container\n",
            "  restart     Restart one or more containers\n",
            "  rm          Remove one or more containers\n",
            "  rmi         Remove one or more images\n",
            "  save        Save one or more images to a tar archive (streamed to STDOUT by default)\n",
            "  start       Start one or more stopped containers\n",
            "  stats       Display a live stream of container(s) resource usage statistics\n",
            "  stop        Stop one or more running containers\n",
            "  tag         Create a tag TARGET_IMAGE that refers to SOURCE_IMAGE\n",
            "  top         Display the running processes of a container\n",
            "  unpause     Unpause all processes within one or more containers\n",
            "  update      Update configuration of one or more containers\n",
            "  wait        Block until one or more containers stop, then print their exit codes\n",
            "\n",
            "Global Options:\n",
            "      --config string      Location of client config files (default \"/root/.docker\")\n",
            "  -c, --context string     Name of the context to use to connect to the daemon (overrides DOCKER_HOST env var and default context set with \"docker context use\")\n",
            "  -D, --debug              Enable debug mode\n",
            "  -H, --host list          Daemon socket to connect to\n",
            "  -l, --log-level string   Set the logging level (\"debug\", \"info\", \"warn\", \"error\", \"fatal\") (default \"info\")\n",
            "      --tls                Use TLS; implied by --tlsverify\n",
            "      --tlscacert string   Trust certs signed only by this CA (default \"/root/.docker/ca.pem\")\n",
            "      --tlscert string     Path to TLS certificate file (default \"/root/.docker/cert.pem\")\n",
            "      --tlskey string      Path to TLS key file (default \"/root/.docker/key.pem\")\n",
            "      --tlsverify          Use TLS and verify the remote\n",
            "  -v, --version            Print version information and quit\n",
            "\n",
            "Run 'docker COMMAND --help' for more information on a command.\n",
            "\n",
            "For more help on how to use Docker, head to https://docs.docker.com/go/guides/\n"
          ]
        }
      ]
    }
  ]
}